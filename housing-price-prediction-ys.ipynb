{
 "cells": [
  {
   "cell_type": "code",
   "execution_count": 1,
   "metadata": {},
   "outputs": [],
   "source": [
    "import pandas as pd\n",
    "from sklearn.model_selection import train_test_split\n",
    "\n",
    "# Read the data\n",
    "X = pd.read_csv('../input/train.csv', index_col='Id')\n",
    "X_test_full = pd.read_csv('../input/test.csv', index_col='Id')\n",
    "\n",
    "# Remove rows with missing target, separate target from predictors\n",
    "X.dropna(axis=0, subset=['SalePrice'], inplace=True)\n",
    "y = X.SalePrice              \n",
    "X.drop(['SalePrice'], axis=1, inplace=True)\n",
    "\n",
    "# Break off validation set from training data\n",
    "X_train_full, X_valid_full, y_train, y_valid = train_test_split(X, y, train_size=0.8, test_size=0.2,\n",
    "                                                                random_state=0)\n",
    "# # \"Cardinality\" means the number of unique values in a column\n",
    "# # Select categorical columns with relatively low cardinality (convenient but arbitrary)\n",
    "# low_cardinality_cols = [cname for cname in X_train_full.columns if X_train_full[cname].nunique() < 10 and \n",
    "#                         X_train_full[cname].dtype == \"object\"]\n",
    "\n",
    "# Select numeric columns\n",
    "numeric_cols = [cname for cname in X_train_full.columns if X_train_full[cname].dtype in ['int64', 'float64']]\n",
    "X_num = X_train_full[numeric_cols].copy()\n",
    "X_valid_num = X_valid_full[numeric_cols].copy()\n",
    "from sklearn.impute import SimpleImputer\n",
    "my_imputer =  SimpleImputer(strategy='median')\n",
    "X_train_imp = pd.DataFrame(my_imputer.fit_transform(X_num))\n",
    "X_valid_imp = pd.DataFrame(my_imputer.transform(X_valid_num))\n",
    "X_train_imp.columns = X_num.columns\n",
    "X_valid_imp.columns = X_valid_num.columns\n",
    "\n",
    "# Test Data Preprocessing\n",
    "imputer =  SimpleImputer(strategy='median')\n",
    "X_test_num = X_test_full[numeric_cols].copy()\n",
    "X_test_imp = pd.DataFrame(imputer.fit_transform(X_test_num))\n",
    "X_test_imp.columns = X_test_num.columns\n",
    "\n",
    "cat_cols = [col for col in X_train_full.columns if X_train_full[col].dtype in ['object']]\n",
    "X_train_imp[cat_cols] = X_train_full[cat_cols]\n",
    "X_train_prep = X_train_imp.copy()\n",
    "X_valid_imp[cat_cols] = X_valid_full[cat_cols]\n",
    "X_valid_prep = X_valid_imp.copy()\n",
    "X_test_imp[cat_cols] = X_test_full[cat_cols]\n",
    "X_test_prep = X_test_imp.copy()\n",
    "X_test_prep.index = X_test_num.index\n",
    "\n",
    "# Keep selected columns only\n",
    "# my_cols = cat_cols + numeric_cols\n",
    "# X_train = X_train_prep[my_cols].copy()\n",
    "# X_valid = X_valid_prep[my_cols].copy()\n",
    "# X_test = X_test_prep[my_cols].copy()\n",
    "\n",
    "# One-hot encode the data (to shorten the code, we use pandas)\n",
    "X_train = pd.get_dummies(X_train_prep)\n",
    "X_valid = pd.get_dummies(X_valid_prep)\n",
    "X_test = pd.get_dummies(X_test_prep)\n",
    "X_train, X_valid = X_train.align(X_valid, join='left', axis=1)\n",
    "X_train, X_test = X_train.align(X_test, join='left', axis=1)"
   ]
  },
  {
   "cell_type": "markdown",
   "execution_count": null,
   "metadata": {},
   "source": [
    "# Final Model\n"
   ]
  },
  {
   "cell_type": "code",
   "execution_count": 2,
   "metadata": {},
   "outputs": [],
   "source": [
    "final_X = X_train.append(X_valid)\n",
    "final_y = y_train.append(y_valid)"
   ]
  },
  {
   "cell_type": "code",
   "execution_count": 3,
   "metadata": {},
   "outputs": [
    {
     "data": {
      "text/plain": [
       "XGBRegressor(base_score=0.5, booster=None, colsample_bylevel=1,\n",
       "             colsample_bynode=1, colsample_bytree=1, gamma=0, gpu_id=-1,\n",
       "             importance_type='gain', interaction_constraints=None,\n",
       "             learning_rate=0.07, max_delta_step=0, max_depth=2,\n",
       "             min_child_weight=1, missing=nan, monotone_constraints=None,\n",
       "             n_estimators=950, n_jobs=0, num_parallel_tree=1,\n",
       "             objective='reg:squarederror', random_state=0, reg_alpha=0,\n",
       "             reg_lambda=1, scale_pos_weight=1, subsample=1, tree_method=None,\n",
       "             validate_parameters=False, verbosity=None)"
      ]
     },
     "execution_count": 3,
     "metadata": {},
     "output_type": "execute_result"
    }
   ],
   "source": [
    "from xgboost import XGBRegressor\n",
    "my_model = XGBRegressor(n_estimators=950, learning_rate=0.07, max_depth=2)\n",
    "my_model.fit(final_X, final_y)"
   ]
  },
  {
   "cell_type": "code",
   "execution_count": null,
   "metadata": {},
   "outputs": [],
   "source": []
  },
  {
   "cell_type": "code",
   "execution_count": 4,
   "metadata": {},
   "outputs": [],
   "source": [
    "preds_test = my_model.predict(X_test)"
   ]
  },
  {
   "cell_type": "code",
   "execution_count": 5,
   "metadata": {},
   "outputs": [],
   "source": [
    "# Save test predictions to file\n",
    "output = pd.DataFrame({'Id': X_test.index,\n",
    "                       'SalePrice': preds_test})\n",
    "output.to_csv('submission.csv', index=False)"
   ]
  },
  {
   "cell_type": "code",
   "execution_count": null,
   "metadata": {},
   "outputs": [],
   "source": []
  }
 ],
 "metadata": {
  "kernelspec": {
   "display_name": "Python 3",
   "language": "python",
   "name": "python3"
  },
  "language_info": {
   "codemirror_mode": {
    "name": "ipython",
    "version": 3
   },
   "file_extension": ".py",
   "mimetype": "text/x-python",
   "name": "python",
   "nbconvert_exporter": "python",
   "pygments_lexer": "ipython3",
   "version": "3.7.6"
  }
 },
 "nbformat": 4,
 "nbformat_minor": 4
}
